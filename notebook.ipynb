{
 "cells": [
  {
   "cell_type": "markdown",
   "metadata": {},
   "source": [
    "## PROJECT ANALISIS PELANGGARAN LALULINTAS DI RODE ISLAND USA\n"
   ]
  },
  {
   "cell_type": "code",
   "execution_count": 1,
   "metadata": {},
   "outputs": [
    {
     "name": "stdout",
     "output_type": "stream",
     "text": [
      "  state   stop_date stop_time  county_name driver_gender driver_race  \\\n",
      "0    RI  2005-01-04     12:55          NaN             M       White   \n",
      "1    RI  2005-01-23     23:15          NaN             M       White   \n",
      "2    RI  2005-02-17     04:15          NaN             M       White   \n",
      "3    RI  2005-02-20     17:15          NaN             M       White   \n",
      "4    RI  2005-02-24     01:20          NaN             F       White   \n",
      "\n",
      "                    violation_raw  violation  search_conducted search_type  \\\n",
      "0  Equipment/Inspection Violation  Equipment             False         NaN   \n",
      "1                        Speeding   Speeding             False         NaN   \n",
      "2                        Speeding   Speeding             False         NaN   \n",
      "3                Call for Service      Other             False         NaN   \n",
      "4                        Speeding   Speeding             False         NaN   \n",
      "\n",
      "    stop_outcome is_arrested stop_duration  drugs_related_stop district  \n",
      "0       Citation       False      0-15 Min               False  Zone X4  \n",
      "1       Citation       False      0-15 Min               False  Zone K3  \n",
      "2       Citation       False      0-15 Min               False  Zone X4  \n",
      "3  Arrest Driver        True     16-30 Min               False  Zone X1  \n",
      "4       Citation       False      0-15 Min               False  Zone X3  \n"
     ]
    }
   ],
   "source": [
    "#Melakukakan pembacaan data set\n",
    "import pandas as pd\n",
    "import matplotlib.pyplot as plt\n",
    "import numpy as np\n",
    "\n",
    "\n",
    "ri=pd.read_csv('police.csv')\n",
    "print(ri.head())"
   ]
  },
  {
   "cell_type": "code",
   "execution_count": null,
   "metadata": {},
   "outputs": [],
   "source": []
  },
  {
   "cell_type": "code",
   "execution_count": 2,
   "metadata": {},
   "outputs": [
    {
     "data": {
      "text/plain": [
       "RI    91741\n",
       "Name: state, dtype: int64"
      ]
     },
     "execution_count": 2,
     "metadata": {},
     "output_type": "execute_result"
    }
   ],
   "source": [
    "ri.state.value_counts()\n"
   ]
  },
  {
   "cell_type": "code",
   "execution_count": 3,
   "metadata": {},
   "outputs": [],
   "source": [
    "# semua data berisi data pada rhode island state dan negara amerika maka kolom ini dapat dibuang\n",
    "ri.drop(['county_name','state'], axis='columns', inplace=True)"
   ]
  },
  {
   "cell_type": "code",
   "execution_count": 4,
   "metadata": {},
   "outputs": [
    {
     "data": {
      "text/plain": [
       "DatetimeIndex(['2005-01-04 12:55:00', '2005-01-23 23:15:00',\n",
       "               '2005-02-17 04:15:00', '2005-02-20 17:15:00',\n",
       "               '2005-02-24 01:20:00', '2005-03-14 10:00:00',\n",
       "               '2005-03-29 21:55:00', '2005-04-04 21:25:00',\n",
       "               '2005-07-14 11:20:00', '2005-07-14 19:55:00',\n",
       "               ...\n",
       "               '2015-12-31 13:23:00', '2015-12-31 18:59:00',\n",
       "               '2015-12-31 19:13:00', '2015-12-31 20:20:00',\n",
       "               '2015-12-31 20:50:00', '2015-12-31 21:21:00',\n",
       "               '2015-12-31 21:59:00', '2015-12-31 22:04:00',\n",
       "               '2015-12-31 22:09:00', '2015-12-31 22:47:00'],\n",
       "              dtype='datetime64[ns]', name='date_and_time', length=91741, freq=None)"
      ]
     },
     "execution_count": 4,
     "metadata": {},
     "output_type": "execute_result"
    }
   ],
   "source": [
    "# buat index menjadi tipe datetime dengan menggabungkan kolom 'stop_date' dan 'stop_time'\n",
    "combined=ri.stop_date.str.cat(ri.stop_time, sep=' ')\n",
    "ri['date_and_time'] = pd.to_datetime(combined)\n",
    "\n",
    "# buat 'date_and_time' menjadi index\n",
    "ri.set_index('date_and_time', inplace=True)\n",
    "ri.index"
   ]
  },
  {
   "cell_type": "code",
   "execution_count": 5,
   "metadata": {},
   "outputs": [],
   "source": [
    "# kita baung kolom 'stop_date', 'stop_time'\n",
    "ri.drop('stop_time', axis=1, inplace=True)"
   ]
  },
  {
   "cell_type": "markdown",
   "metadata": {},
   "source": [
    "## Pada analisa pertama kita ingin melihat apakah ada hubungan antara tingkat pemeriksaan polisi dengan gender pengemudi "
   ]
  },
  {
   "cell_type": "code",
   "execution_count": 6,
   "metadata": {},
   "outputs": [],
   "source": [
    "# maka semua data yang null di kolom driver_gender akan di buang\n",
    "ri.dropna(subset=['driver_gender'], inplace=True)"
   ]
  },
  {
   "cell_type": "code",
   "execution_count": 7,
   "metadata": {},
   "outputs": [
    {
     "data": {
      "text/html": [
       "<div>\n",
       "<style scoped>\n",
       "    .dataframe tbody tr th:only-of-type {\n",
       "        vertical-align: middle;\n",
       "    }\n",
       "\n",
       "    .dataframe tbody tr th {\n",
       "        vertical-align: top;\n",
       "    }\n",
       "\n",
       "    .dataframe thead th {\n",
       "        text-align: right;\n",
       "    }\n",
       "</style>\n",
       "<table border=\"1\" class=\"dataframe\">\n",
       "  <thead>\n",
       "    <tr style=\"text-align: right;\">\n",
       "      <th></th>\n",
       "      <th>stop_date</th>\n",
       "      <th>driver_gender</th>\n",
       "      <th>driver_race</th>\n",
       "      <th>violation_raw</th>\n",
       "      <th>violation</th>\n",
       "      <th>search_conducted</th>\n",
       "      <th>search_type</th>\n",
       "      <th>stop_outcome</th>\n",
       "      <th>is_arrested</th>\n",
       "      <th>stop_duration</th>\n",
       "      <th>drugs_related_stop</th>\n",
       "      <th>district</th>\n",
       "    </tr>\n",
       "    <tr>\n",
       "      <th>date_and_time</th>\n",
       "      <th></th>\n",
       "      <th></th>\n",
       "      <th></th>\n",
       "      <th></th>\n",
       "      <th></th>\n",
       "      <th></th>\n",
       "      <th></th>\n",
       "      <th></th>\n",
       "      <th></th>\n",
       "      <th></th>\n",
       "      <th></th>\n",
       "      <th></th>\n",
       "    </tr>\n",
       "  </thead>\n",
       "  <tbody>\n",
       "    <tr>\n",
       "      <th>2005-01-04 12:55:00</th>\n",
       "      <td>2005-01-04</td>\n",
       "      <td>M</td>\n",
       "      <td>White</td>\n",
       "      <td>Equipment/Inspection Violation</td>\n",
       "      <td>Equipment</td>\n",
       "      <td>False</td>\n",
       "      <td>NaN</td>\n",
       "      <td>Citation</td>\n",
       "      <td>False</td>\n",
       "      <td>0-15 Min</td>\n",
       "      <td>False</td>\n",
       "      <td>Zone X4</td>\n",
       "    </tr>\n",
       "    <tr>\n",
       "      <th>2005-01-23 23:15:00</th>\n",
       "      <td>2005-01-23</td>\n",
       "      <td>M</td>\n",
       "      <td>White</td>\n",
       "      <td>Speeding</td>\n",
       "      <td>Speeding</td>\n",
       "      <td>False</td>\n",
       "      <td>NaN</td>\n",
       "      <td>Citation</td>\n",
       "      <td>False</td>\n",
       "      <td>0-15 Min</td>\n",
       "      <td>False</td>\n",
       "      <td>Zone K3</td>\n",
       "    </tr>\n",
       "    <tr>\n",
       "      <th>2005-02-17 04:15:00</th>\n",
       "      <td>2005-02-17</td>\n",
       "      <td>M</td>\n",
       "      <td>White</td>\n",
       "      <td>Speeding</td>\n",
       "      <td>Speeding</td>\n",
       "      <td>False</td>\n",
       "      <td>NaN</td>\n",
       "      <td>Citation</td>\n",
       "      <td>False</td>\n",
       "      <td>0-15 Min</td>\n",
       "      <td>False</td>\n",
       "      <td>Zone X4</td>\n",
       "    </tr>\n",
       "    <tr>\n",
       "      <th>2005-02-20 17:15:00</th>\n",
       "      <td>2005-02-20</td>\n",
       "      <td>M</td>\n",
       "      <td>White</td>\n",
       "      <td>Call for Service</td>\n",
       "      <td>Other</td>\n",
       "      <td>False</td>\n",
       "      <td>NaN</td>\n",
       "      <td>Arrest Driver</td>\n",
       "      <td>True</td>\n",
       "      <td>16-30 Min</td>\n",
       "      <td>False</td>\n",
       "      <td>Zone X1</td>\n",
       "    </tr>\n",
       "    <tr>\n",
       "      <th>2005-02-24 01:20:00</th>\n",
       "      <td>2005-02-24</td>\n",
       "      <td>F</td>\n",
       "      <td>White</td>\n",
       "      <td>Speeding</td>\n",
       "      <td>Speeding</td>\n",
       "      <td>False</td>\n",
       "      <td>NaN</td>\n",
       "      <td>Citation</td>\n",
       "      <td>False</td>\n",
       "      <td>0-15 Min</td>\n",
       "      <td>False</td>\n",
       "      <td>Zone X3</td>\n",
       "    </tr>\n",
       "  </tbody>\n",
       "</table>\n",
       "</div>"
      ],
      "text/plain": [
       "                      stop_date driver_gender driver_race  \\\n",
       "date_and_time                                               \n",
       "2005-01-04 12:55:00  2005-01-04             M       White   \n",
       "2005-01-23 23:15:00  2005-01-23             M       White   \n",
       "2005-02-17 04:15:00  2005-02-17             M       White   \n",
       "2005-02-20 17:15:00  2005-02-20             M       White   \n",
       "2005-02-24 01:20:00  2005-02-24             F       White   \n",
       "\n",
       "                                      violation_raw  violation  \\\n",
       "date_and_time                                                    \n",
       "2005-01-04 12:55:00  Equipment/Inspection Violation  Equipment   \n",
       "2005-01-23 23:15:00                        Speeding   Speeding   \n",
       "2005-02-17 04:15:00                        Speeding   Speeding   \n",
       "2005-02-20 17:15:00                Call for Service      Other   \n",
       "2005-02-24 01:20:00                        Speeding   Speeding   \n",
       "\n",
       "                     search_conducted search_type   stop_outcome is_arrested  \\\n",
       "date_and_time                                                                  \n",
       "2005-01-04 12:55:00             False         NaN       Citation       False   \n",
       "2005-01-23 23:15:00             False         NaN       Citation       False   \n",
       "2005-02-17 04:15:00             False         NaN       Citation       False   \n",
       "2005-02-20 17:15:00             False         NaN  Arrest Driver        True   \n",
       "2005-02-24 01:20:00             False         NaN       Citation       False   \n",
       "\n",
       "                    stop_duration  drugs_related_stop district  \n",
       "date_and_time                                                   \n",
       "2005-01-04 12:55:00      0-15 Min               False  Zone X4  \n",
       "2005-01-23 23:15:00      0-15 Min               False  Zone K3  \n",
       "2005-02-17 04:15:00      0-15 Min               False  Zone X4  \n",
       "2005-02-20 17:15:00     16-30 Min               False  Zone X1  \n",
       "2005-02-24 01:20:00      0-15 Min               False  Zone X3  "
      ]
     },
     "execution_count": 7,
     "metadata": {},
     "output_type": "execute_result"
    }
   ],
   "source": [
    "#data sudah mualai rapi\n",
    "ri.head()\n"
   ]
  },
  {
   "cell_type": "code",
   "execution_count": 8,
   "metadata": {},
   "outputs": [
    {
     "name": "stdout",
     "output_type": "stream",
     "text": [
      "<class 'pandas.core.frame.DataFrame'>\n",
      "DatetimeIndex: 86536 entries, 2005-01-04 12:55:00 to 2015-12-31 22:47:00\n",
      "Data columns (total 12 columns):\n",
      "stop_date             86536 non-null object\n",
      "driver_gender         86536 non-null object\n",
      "driver_race           86536 non-null object\n",
      "violation_raw         86536 non-null object\n",
      "violation             86536 non-null object\n",
      "search_conducted      86536 non-null bool\n",
      "search_type           3307 non-null object\n",
      "stop_outcome          86536 non-null object\n",
      "is_arrested           86536 non-null object\n",
      "stop_duration         86536 non-null object\n",
      "drugs_related_stop    86536 non-null bool\n",
      "district              86536 non-null object\n",
      "dtypes: bool(2), object(10)\n",
      "memory usage: 7.4+ MB\n"
     ]
    }
   ],
   "source": [
    "#perbaiki type data yang mungkin salah\n",
    "ri.info()"
   ]
  },
  {
   "cell_type": "code",
   "execution_count": 9,
   "metadata": {},
   "outputs": [
    {
     "name": "stdout",
     "output_type": "stream",
     "text": [
      "<class 'pandas.core.frame.DataFrame'>\n",
      "DatetimeIndex: 86536 entries, 2005-01-04 12:55:00 to 2015-12-31 22:47:00\n",
      "Data columns (total 12 columns):\n",
      "stop_date             86536 non-null object\n",
      "driver_gender         86536 non-null category\n",
      "driver_race           86536 non-null object\n",
      "violation_raw         86536 non-null object\n",
      "violation             86536 non-null object\n",
      "search_conducted      86536 non-null bool\n",
      "search_type           3307 non-null object\n",
      "stop_outcome          86536 non-null object\n",
      "is_arrested           86536 non-null bool\n",
      "stop_duration         86536 non-null object\n",
      "drugs_related_stop    86536 non-null bool\n",
      "district              86536 non-null object\n",
      "dtypes: bool(3), category(1), object(8)\n",
      "memory usage: 6.3+ MB\n"
     ]
    }
   ],
   "source": [
    "# kolom driver_gender yang bertype object lebih baik kita rubah ke tipe category\n",
    "ri['driver_gender'] = ri.driver_gender.astype('category')\n",
    "# kolom is_arrested dirubah ke tipe boolean\n",
    "ri['is_arrested'] = ri.is_arrested.astype('bool')\n",
    "ri.info()"
   ]
  },
  {
   "cell_type": "code",
   "execution_count": 10,
   "metadata": {},
   "outputs": [
    {
     "data": {
      "text/plain": [
       "driver_gender  violation          \n",
       "F              Speeding               0.658114\n",
       "               Moving violation       0.138218\n",
       "               Equipment              0.105199\n",
       "               Registration/plates    0.044418\n",
       "               Other                  0.029738\n",
       "               Seat belt              0.024312\n",
       "M              Speeding               0.522243\n",
       "               Moving violation       0.206144\n",
       "               Equipment              0.134158\n",
       "               Other                  0.058985\n",
       "               Registration/plates    0.042175\n",
       "               Seat belt              0.036296\n",
       "Name: violation, dtype: float64"
      ]
     },
     "execution_count": 10,
     "metadata": {},
     "output_type": "execute_result"
    }
   ],
   "source": [
    "# kita mualai dengan melihat persentase pelanggara pria dan \n",
    "ri.groupby('driver_gender').violation.value_counts(normalize=True)\n"
   ]
  },
  {
   "cell_type": "markdown",
   "metadata": {},
   "source": [
    "Sebagian besar pelanggaran yang dilakukan oleh kedua gender adalah speeding atau mengebut, kita akan perikas kolom kasus ini lebih mendalam"
   ]
  },
  {
   "cell_type": "code",
   "execution_count": 11,
   "metadata": {},
   "outputs": [
    {
     "name": "stdout",
     "output_type": "stream",
     "text": [
      "3.55690117407784\n"
     ]
    }
   ],
   "source": [
    "# dari semua pemeriksaan yang dilakukan oleh polisi tidak langsung terjadi penangkapan\n",
    "# kita lihat rata-rata nya\n",
    "\n",
    "print(ri.is_arrested.mean()*100)"
   ]
  },
  {
   "cell_type": "markdown",
   "metadata": {},
   "source": [
    "ternya hanya 3.5% saja yang berujung penangkapan"
   ]
  },
  {
   "cell_type": "code",
   "execution_count": 12,
   "metadata": {},
   "outputs": [
    {
     "data": {
      "text/plain": [
       "Text(0, 0.5, 'Persentase penangkapan')"
      ]
     },
     "execution_count": 12,
     "metadata": {},
     "output_type": "execute_result"
    },
    {
     "data": {
      "image/png": "[encoded data removed]",
      "text/plain": [
       "<Figure size 432x288 with 1 Axes>"
      ]
     },
     "metadata": {
      "needs_background": "light"
     },
     "output_type": "display_data"
    }
   ],
   "source": [
    "# kita akan lihat pada jam berapa paling sering terjadi penagkapan\n",
    "hourly_arrest_rate = ri.groupby(ri.index.hour).is_arrested.mean()*100\n",
    "hourly_arrest_rate.plot()\n",
    "plt.title('Tingkat penangkapan tiap jam')\n",
    "plt.xlabel('Jam')\n",
    "plt.ylabel('Persentase penangkapan')"
   ]
  },
  {
   "cell_type": "markdown",
   "metadata": {},
   "source": [
    "BISA DILIHAT JELAS JIKA PENANGKAPAN LEBIH SERING TERJADI DI MALAM HARI DARI PUKUL 20.00 SAMPAI 4.00 PAGI"
   ]
  },
  {
   "cell_type": "code",
   "execution_count": 13,
   "metadata": {},
   "outputs": [
    {
     "data": {
      "image/png": "[encoded data removed]",
      "text/plain": [
       "<Figure size 432x288 with 1 Axes>"
      ]
     },
     "metadata": {
      "needs_background": "light"
     },
     "output_type": "display_data"
    }
   ],
   "source": [
    "# berikutnya kita akan analisa tingkat penangkapan yang berhubungan dengan\n",
    "# obat obatan terlarang\n",
    "annual_drug_rate = ri.resample('A').drugs_related_stop.mean()\n",
    "annual_drug_rate.plot()\n",
    "plt.show()"
   ]
  },
  {
   "cell_type": "markdown",
   "metadata": {},
   "source": [
    "Dapat dilihat bahwa penangkapan yang berkaitan dengan obat-obatan terus meningkat dengan drastis, \n",
    "namun hal ini bisa jadi terjadi bukan karena peredaran obat-obatan semakin parah tiap tahunya di amerika, bisa saja ini terjadi karena jumlah operasi pemeriksaan yang maningkat"
   ]
  },
  {
   "cell_type": "code",
   "execution_count": 14,
   "metadata": {},
   "outputs": [
    {
     "data": {
      "image/png": "[encoded data removed]",
      "text/plain": [
       "<Figure size 432x288 with 2 Axes>"
      ]
     },
     "metadata": {
      "needs_background": "light"
     },
     "output_type": "display_data"
    }
   ],
   "source": [
    "# kita bandingkan dengan data pemeriksaan polisi tiap tahun\n",
    "annual_search_rate = ri.resample('A').search_conducted.mean()\n",
    "\n",
    "annual = pd.concat([annual_search_rate, annual_drug_rate], axis=1)\n",
    "annual.plot(subplots=True)\n",
    "plt.show()"
   ]
  },
  {
   "cell_type": "markdown",
   "metadata": {},
   "source": [
    "Bisa dilihat jika ternyata operasi pemesiksaan yang dilakukan polisi malah semakin menurun, hasil ini mendukung bahwa memang penggunaan obat-obatan terlarang semakin meningkat di amerika"
   ]
  },
  {
   "cell_type": "markdown",
   "metadata": {},
   "source": [
    "## Penghitungan pelanggaran per Distrik\n",
    "\n",
    "Negara bagian Rhode Island dipecah menjadi enam distrik kepolisian, juga dikenal sebagai zona. Bagaimana perbandingan pelanggaran lalu lintas pada zona-zona ini?"
   ]
  },
  {
   "cell_type": "code",
   "execution_count": 15,
   "metadata": {},
   "outputs": [
    {
     "data": {
      "text/html": [
       "<div>\n",
       "<style scoped>\n",
       "    .dataframe tbody tr th:only-of-type {\n",
       "        vertical-align: middle;\n",
       "    }\n",
       "\n",
       "    .dataframe tbody tr th {\n",
       "        vertical-align: top;\n",
       "    }\n",
       "\n",
       "    .dataframe thead th {\n",
       "        text-align: right;\n",
       "    }\n",
       "</style>\n",
       "<table border=\"1\" class=\"dataframe\">\n",
       "  <thead>\n",
       "    <tr style=\"text-align: right;\">\n",
       "      <th>violation</th>\n",
       "      <th>Equipment</th>\n",
       "      <th>Moving violation</th>\n",
       "      <th>Other</th>\n",
       "      <th>Registration/plates</th>\n",
       "      <th>Seat belt</th>\n",
       "      <th>Speeding</th>\n",
       "    </tr>\n",
       "    <tr>\n",
       "      <th>district</th>\n",
       "      <th></th>\n",
       "      <th></th>\n",
       "      <th></th>\n",
       "      <th></th>\n",
       "      <th></th>\n",
       "      <th></th>\n",
       "    </tr>\n",
       "  </thead>\n",
       "  <tbody>\n",
       "    <tr>\n",
       "      <th>Zone K1</th>\n",
       "      <td>672</td>\n",
       "      <td>1254</td>\n",
       "      <td>290</td>\n",
       "      <td>120</td>\n",
       "      <td>0</td>\n",
       "      <td>5960</td>\n",
       "    </tr>\n",
       "    <tr>\n",
       "      <th>Zone K2</th>\n",
       "      <td>2061</td>\n",
       "      <td>2962</td>\n",
       "      <td>942</td>\n",
       "      <td>768</td>\n",
       "      <td>481</td>\n",
       "      <td>10448</td>\n",
       "    </tr>\n",
       "    <tr>\n",
       "      <th>Zone K3</th>\n",
       "      <td>2302</td>\n",
       "      <td>2898</td>\n",
       "      <td>705</td>\n",
       "      <td>695</td>\n",
       "      <td>638</td>\n",
       "      <td>12322</td>\n",
       "    </tr>\n",
       "    <tr>\n",
       "      <th>Zone X1</th>\n",
       "      <td>296</td>\n",
       "      <td>671</td>\n",
       "      <td>143</td>\n",
       "      <td>38</td>\n",
       "      <td>74</td>\n",
       "      <td>1119</td>\n",
       "    </tr>\n",
       "    <tr>\n",
       "      <th>Zone X3</th>\n",
       "      <td>2049</td>\n",
       "      <td>3086</td>\n",
       "      <td>769</td>\n",
       "      <td>671</td>\n",
       "      <td>820</td>\n",
       "      <td>8779</td>\n",
       "    </tr>\n",
       "    <tr>\n",
       "      <th>Zone X4</th>\n",
       "      <td>3541</td>\n",
       "      <td>5353</td>\n",
       "      <td>1560</td>\n",
       "      <td>1411</td>\n",
       "      <td>843</td>\n",
       "      <td>9795</td>\n",
       "    </tr>\n",
       "  </tbody>\n",
       "</table>\n",
       "</div>"
      ],
      "text/plain": [
       "violation  Equipment  Moving violation  Other  Registration/plates  Seat belt  \\\n",
       "district                                                                        \n",
       "Zone K1          672              1254    290                  120          0   \n",
       "Zone K2         2061              2962    942                  768        481   \n",
       "Zone K3         2302              2898    705                  695        638   \n",
       "Zone X1          296               671    143                   38         74   \n",
       "Zone X3         2049              3086    769                  671        820   \n",
       "Zone X4         3541              5353   1560                 1411        843   \n",
       "\n",
       "violation  Speeding  \n",
       "district             \n",
       "Zone K1        5960  \n",
       "Zone K2       10448  \n",
       "Zone K3       12322  \n",
       "Zone X1        1119  \n",
       "Zone X3        8779  \n",
       "Zone X4        9795  "
      ]
     },
     "execution_count": 15,
     "metadata": {},
     "output_type": "execute_result"
    }
   ],
   "source": [
    "#buat tabel cross tab antara violation dan district\n",
    "all_zone = pd.crosstab(ri.district, ri.violation)\n",
    "all_zone"
   ]
  },
  {
   "cell_type": "code",
   "execution_count": 16,
   "metadata": {},
   "outputs": [
    {
     "data": {
      "image/png": "[encoded data removed]",
      "text/plain": [
       "<Figure size 432x288 with 1 Axes>"
      ]
     },
     "metadata": {
      "needs_background": "light"
     },
     "output_type": "display_data"
    }
   ],
   "source": [
    "#kita akan periksa bagian zona k dulu\n",
    "k_zone = all_zone.loc['Zone K1':'Zone K3']\n",
    "#kita buat barplot unuk membandingkan categorical data\n",
    "k_zone.plot(kind='bar', stacked=True)\n",
    "plt.show()"
   ]
  },
  {
   "cell_type": "markdown",
   "metadata": {},
   "source": [
    "dapat dilihat jelas jika pelanggaran paling tinggi terjadi di zone K3, akan tatepi janis pelanggaran untuk semua zona K memimiliki parbandingan yang serupa"
   ]
  },
  {
   "cell_type": "markdown",
   "metadata": {},
   "source": [
    "Kita juga akan melakukan analisa durasi untuk setiap pemberhentian"
   ]
  },
  {
   "cell_type": "code",
   "execution_count": 17,
   "metadata": {},
   "outputs": [
    {
     "name": "stdout",
     "output_type": "stream",
     "text": [
      "['0-15 Min' '16-30 Min' '30+ Min']\n"
     ]
    }
   ],
   "source": [
    "#kita akan periksa isi kolom stop_durations\n",
    "print(ri.stop_duration.unique())\n"
   ]
  },
  {
   "cell_type": "markdown",
   "metadata": {},
   "source": [
    "karena nilai masih dalam bentuk objek kita bisa buat taksiran waktunya agar bisa kita hiting dalam float"
   ]
  },
  {
   "cell_type": "code",
   "execution_count": 18,
   "metadata": {},
   "outputs": [
    {
     "name": "stdout",
     "output_type": "stream",
     "text": [
      "[ 8 23 45]\n"
     ]
    }
   ],
   "source": [
    "# kita buat pemataan untuk mengkonvert nilai nya\n",
    "mapping = {'0-15 Min' : 8, '16-30 Min' : 23, '30+ Min' : 45\n",
    "    }\n",
    "\n",
    "# kita simpan datanya pada kolom stop_minutes\n",
    "ri['stop_minutes'] = ri.stop_duration.map(mapping)\n",
    "\n",
    "# Print the unique values in 'stop_minutes'\n",
    "print(ri.stop_minutes.unique())"
   ]
  },
  {
   "cell_type": "code",
   "execution_count": 19,
   "metadata": {},
   "outputs": [
    {
     "data": {
      "image/png": "[encoded data removed]",
      "text/plain": [
       "<Figure size 432x288 with 1 Axes>"
      ]
     },
     "metadata": {
      "needs_background": "light"
     },
     "output_type": "display_data"
    }
   ],
   "source": [
    "# kita hitung berapa lama rata-rata durasi pemberhentian untuk setiap pelanggaran\n",
    "    \n",
    "stop_length = ri.groupby('violation_raw').stop_minutes.mean()\n",
    "\n",
    "# kita sort dan tampilkan dalam bar\n",
    "stop_length.sort_values().plot(kind='barh')\n",
    "\n",
    "plt.show()"
   ]
  },
  {
   "cell_type": "markdown",
   "metadata": {},
   "source": [
    "## Penambahan data cuaca\n",
    "kita juga akan menambahkan data cuaca untuk meilhat kaitan antara cuaca dengan pemberhentian kendaraan yang dilakukan polisi\n"
   ]
  },
  {
   "cell_type": "code",
   "execution_count": 20,
   "metadata": {},
   "outputs": [
    {
     "name": "stdout",
     "output_type": "stream",
     "text": [
      "              TMIN         TAVG         TMAX\n",
      "count  4017.000000  1217.000000  4017.000000\n",
      "mean     43.484441    52.493016    61.268608\n",
      "std      17.020298    17.830714    18.199517\n",
      "min      -5.000000     6.000000    15.000000\n",
      "25%      30.000000    39.000000    47.000000\n",
      "50%      44.000000    54.000000    62.000000\n",
      "75%      58.000000    68.000000    77.000000\n",
      "max      77.000000    86.000000   102.000000\n"
     ]
    },
    {
     "data": {
      "image/png": "[encoded data removed]",
      "text/plain": [
       "<Figure size 432x288 with 1 Axes>"
      ]
     },
     "metadata": {
      "needs_background": "light"
     },
     "output_type": "display_data"
    }
   ],
   "source": [
    "# baca data 'weather.csv' menjadi data frame 'weather'\n",
    "weather = pd.read_csv('weather.csv')\n",
    "\n",
    "# kita lihat data temperature\n",
    "print(weather[['TMIN', 'TAVG', 'TMAX']].describe())\n",
    "\n",
    "# buat dalam bentuk box\n",
    "weather.plot(kind='box')\n",
    "\n",
    "plt.show()"
   ]
  },
  {
   "cell_type": "markdown",
   "metadata": {},
   "source": [
    "Data suhu terlihat bagus sejauh ini: \n",
    "nilai-nilai TAVG berada di antara TMIN dan TMAX, dan pengukuran serta rentangnya tampak masuk akal."
   ]
  },
  {
   "cell_type": "code",
   "execution_count": 21,
   "metadata": {},
   "outputs": [
    {
     "name": "stdout",
     "output_type": "stream",
     "text": [
      "count    4017.000000\n",
      "mean       17.784167\n",
      "std         6.350720\n",
      "min         2.000000\n",
      "25%        14.000000\n",
      "50%        18.000000\n",
      "75%        22.000000\n",
      "max        43.000000\n",
      "Name: TDIFF, dtype: float64\n"
     ]
    },
    {
     "data": {
      "image/png": "[encoded data removed]",
      "text/plain": [
       "<Figure size 432x288 with 1 Axes>"
      ]
     },
     "metadata": {
      "needs_background": "light"
     },
     "output_type": "display_data"
    }
   ],
   "source": [
    "#kita perksa lebih jauh data temperature yang ada\n",
    "\n",
    "# buat kolom 'TDIFF' yang merupakan selisih Tmax dan Tmin\n",
    "weather['TDIFF']=weather.TMAX-weather.TMIN\n",
    "\n",
    "# Describe  'TDIFF' \n",
    "print(weather.TDIFF.describe())\n",
    "\n",
    "# kita tampilkan dalam bentuk histogram 'TDIFF'\n",
    "weather['TDIFF'].plot(kind='hist', bins=20)\n",
    "\n",
    "plt.show()"
   ]
  },
  {
   "cell_type": "markdown",
   "metadata": {},
   "source": [
    "kolom tidak memiliki nilai negatif dan distribusinya mendekati normal, \n",
    "keduanya merupakan tanda bahwa data dapat dipercaya."
   ]
  },
  {
   "cell_type": "markdown",
   "metadata": {},
   "source": [
    "pada dataframe weather terdapat kolom :\n",
    "\n",
    "WT05 menunjukkan \"Hail\"/hujan es\n",
    "WT11 menunjukkan \"High or damaging winds\"/ angin keras\n",
    "WT17 menunjukkan \"Freezing rain\"/hujan dan seterusanya\n",
    "kolom ini akan birisi nilai 1 jika terjadi dan Nan jika tidak\n",
    "  "
   ]
  },
  {
   "cell_type": "code",
   "execution_count": 22,
   "metadata": {},
   "outputs": [
    {
     "data": {
      "image/png": "[encoded data removed]",
      "text/plain": [
       "<Figure size 432x288 with 1 Axes>"
      ]
     },
     "metadata": {
      "needs_background": "light"
     },
     "output_type": "display_data"
    }
   ],
   "source": [
    "# kita buat dataframe untuk kolom 'WT01' sampai 'WT22' \n",
    "WT = weather.loc[:,'WT01':'WT22']\n",
    "\n",
    "# kita hitung nilai penjumlahan per row untuk melihat sebarapa parah cuca pada hari itu\n",
    "# semakin besar nilai semakin parah cuacanya\n",
    "weather['bad_conditions'] = WT.sum(axis=1)\n",
    "\n",
    "# kita ganti nilai Nan dengan nilai '0'\n",
    "weather['bad_conditions'] = weather.bad_conditions.fillna(0).astype('int')\n",
    "\n",
    "# Create a histogram to visualize 'bad_conditions'\n",
    "weather['bad_conditions'].plot(kind='hist')\n",
    "\n",
    "# Display the plot\n",
    "plt.show()"
   ]
  },
  {
   "cell_type": "markdown",
   "metadata": {},
   "source": [
    "Sepertinya sehari-hari tidak ada kondisi cuaca buruk, terlihat dari data yang didominasi nilai 0\n",
    "dan hanya sebagian kecil hari yang memiliki lebih dari empat kondisi cuaca buruk."
   ]
  },
  {
   "cell_type": "markdown",
   "metadata": {},
   "source": [
    "dari nilai rating ini kita buat untuk mengklasifikasikan kondisi cuca pada waktu itu:\n",
    "    nilai 0 untuk 'good'\n",
    "    nilai 1 sampai 4 untuk 'bad'\n",
    "    nilai 5 sampai 9 untuk 'worse'"
   ]
  },
  {
   "cell_type": "code",
   "execution_count": 23,
   "metadata": {},
   "outputs": [
    {
     "name": "stdout",
     "output_type": "stream",
     "text": [
      "bad      1836\n",
      "good     1749\n",
      "worse     432\n",
      "Name: rating, dtype: int64\n"
     ]
    }
   ],
   "source": [
    "# kita buat mapping untuk merubah nilai ratingnya\n",
    "mapping = {0:'good', 1:'bad', 2:'bad', 3:'bad', 4:'bad',\n",
    "    5: 'worse', 6: 'worse', 7: 'worse', 8: 'worse',\n",
    "    9: 'worse'\n",
    "}\n",
    "\n",
    "# gunakan mapping untuk kolom bad_conditions\n",
    "weather['rating'] = weather.bad_conditions.map(mapping)\n",
    "\n",
    "# kita lihat hasilnya\n",
    "print(weather.rating.value_counts())"
   ]
  },
  {
   "cell_type": "markdown",
   "metadata": {},
   "source": [
    "Sistem peringkat ini harus membuat data kondisi cuaca lebih mudah dipahami."
   ]
  },
  {
   "cell_type": "code",
   "execution_count": 24,
   "metadata": {},
   "outputs": [
    {
     "name": "stdout",
     "output_type": "stream",
     "text": [
      "0    bad\n",
      "1    bad\n",
      "2    bad\n",
      "3    bad\n",
      "4    bad\n",
      "Name: rating, dtype: category\n",
      "Categories (3, object): [good < bad < worse]\n"
     ]
    },
    {
     "name": "stderr",
     "output_type": "stream",
     "text": [
      "C:\\Users\\RoyhanM\\Anaconda3\\lib\\site-packages\\IPython\\core\\interactiveshell.py:3296: FutureWarning: specifying 'categories' or 'ordered' in .astype() is deprecated; pass a CategoricalDtype instead\n",
      "  exec(code_obj, self.user_global_ns, self.user_ns)\n"
     ]
    }
   ],
   "source": [
    "# kita rubah series rating dari object menjadi category untuk menghemat memory\n",
    "# buat list categories\n",
    "cats=['good','bad','worse']\n",
    "\n",
    "# kita rubah kolom rating menjadi tipe category\n",
    "weather['rating'] = weather.rating.astype('category', categories=cats, ordered=True)\n",
    "\n",
    "# kita lihat kolom 'rating'\n",
    "print(weather['rating'].head())"
   ]
  },
  {
   "cell_type": "markdown",
   "metadata": {},
   "source": [
    "## Saatnya kita gabungkan data weather dan ri"
   ]
  },
  {
   "cell_type": "code",
   "execution_count": 39,
   "metadata": {},
   "outputs": [
    {
     "name": "stdout",
     "output_type": "stream",
     "text": [
      "                     level_0  index   stop_date driver_gender driver_race  \\\n",
      "date_and_time                                                               \n",
      "2005-01-04 12:55:00        0      0  2005-01-04             M       White   \n",
      "2005-01-23 23:15:00        1      1  2005-01-23             M       White   \n",
      "2005-02-17 04:15:00        2      2  2005-02-17             M       White   \n",
      "2005-02-20 17:15:00        3      3  2005-02-20             M       White   \n",
      "2005-02-24 01:20:00        4      4  2005-02-24             F       White   \n",
      "\n",
      "                                      violation_raw  violation  \\\n",
      "date_and_time                                                    \n",
      "2005-01-04 12:55:00  Equipment/Inspection Violation  Equipment   \n",
      "2005-01-23 23:15:00                        Speeding   Speeding   \n",
      "2005-02-17 04:15:00                        Speeding   Speeding   \n",
      "2005-02-20 17:15:00                Call for Service      Other   \n",
      "2005-02-24 01:20:00                        Speeding   Speeding   \n",
      "\n",
      "                     search_conducted search_type   stop_outcome  is_arrested  \\\n",
      "date_and_time                                                                   \n",
      "2005-01-04 12:55:00             False         NaN       Citation        False   \n",
      "2005-01-23 23:15:00             False         NaN       Citation        False   \n",
      "2005-02-17 04:15:00             False         NaN       Citation        False   \n",
      "2005-02-20 17:15:00             False         NaN  Arrest Driver         True   \n",
      "2005-02-24 01:20:00             False         NaN       Citation        False   \n",
      "\n",
      "                    stop_duration  drugs_related_stop district  stop_minutes  \\\n",
      "date_and_time                                                                  \n",
      "2005-01-04 12:55:00      0-15 Min               False  Zone X4             8   \n",
      "2005-01-23 23:15:00      0-15 Min               False  Zone K3             8   \n",
      "2005-02-17 04:15:00      0-15 Min               False  Zone X4             8   \n",
      "2005-02-20 17:15:00     16-30 Min               False  Zone X1            23   \n",
      "2005-02-24 01:20:00      0-15 Min               False  Zone X3             8   \n",
      "\n",
      "                           DATE rating  \n",
      "date_and_time                           \n",
      "2005-01-04 12:55:00  2005-01-04    bad  \n",
      "2005-01-23 23:15:00  2005-01-23  worse  \n",
      "2005-02-17 04:15:00  2005-02-17   good  \n",
      "2005-02-20 17:15:00  2005-02-20    bad  \n",
      "2005-02-24 01:20:00  2005-02-24    bad  \n"
     ]
    }
   ],
   "source": [
    "\n",
    "# kita hanya butuh kolom 'DATE' dan 'rating' dari weather\n",
    "weather_rating=weather[['DATE','rating']]\n",
    "\n",
    "# kita lakukan left merge\n",
    "ri_weather = pd.merge(left=ri, right=weather_rating, left_on='stop_date', right_on='DATE', how='left')\n",
    "\n",
    "# Set 'stop_datetime' as the index of 'ri_weather'\n",
    "ri_weather.set_index('date_and_time', inplace=True)\n",
    "\n",
    "#lihat hasil gabungan\n",
    "print(ri_weather.head())"
   ]
  },
  {
   "cell_type": "code",
   "execution_count": 40,
   "metadata": {},
   "outputs": [],
   "source": [
    "#kita buang kolom yang tidak dibutuhkan\n",
    "ri_weather.drop(['level_0','index','DATE','stop_date'],axis=1, inplace=True)"
   ]
  },
  {
   "cell_type": "code",
   "execution_count": 41,
   "metadata": {},
   "outputs": [
    {
     "name": "stdout",
     "output_type": "stream",
     "text": [
      "                    driver_gender driver_race                   violation_raw  \\\n",
      "date_and_time                                                                   \n",
      "2005-01-04 12:55:00             M       White  Equipment/Inspection Violation   \n",
      "2005-01-23 23:15:00             M       White                        Speeding   \n",
      "2005-02-17 04:15:00             M       White                        Speeding   \n",
      "2005-02-20 17:15:00             M       White                Call for Service   \n",
      "2005-02-24 01:20:00             F       White                        Speeding   \n",
      "\n",
      "                     violation  search_conducted search_type   stop_outcome  \\\n",
      "date_and_time                                                                 \n",
      "2005-01-04 12:55:00  Equipment             False         NaN       Citation   \n",
      "2005-01-23 23:15:00   Speeding             False         NaN       Citation   \n",
      "2005-02-17 04:15:00   Speeding             False         NaN       Citation   \n",
      "2005-02-20 17:15:00      Other             False         NaN  Arrest Driver   \n",
      "2005-02-24 01:20:00   Speeding             False         NaN       Citation   \n",
      "\n",
      "                     is_arrested stop_duration  drugs_related_stop district  \\\n",
      "date_and_time                                                                 \n",
      "2005-01-04 12:55:00        False      0-15 Min               False  Zone X4   \n",
      "2005-01-23 23:15:00        False      0-15 Min               False  Zone K3   \n",
      "2005-02-17 04:15:00        False      0-15 Min               False  Zone X4   \n",
      "2005-02-20 17:15:00         True     16-30 Min               False  Zone X1   \n",
      "2005-02-24 01:20:00        False      0-15 Min               False  Zone X3   \n",
      "\n",
      "                     stop_minutes rating  \n",
      "date_and_time                             \n",
      "2005-01-04 12:55:00             8    bad  \n",
      "2005-01-23 23:15:00             8  worse  \n",
      "2005-02-17 04:15:00             8   good  \n",
      "2005-02-20 17:15:00            23    bad  \n",
      "2005-02-24 01:20:00             8    bad  \n"
     ]
    }
   ],
   "source": [
    "print(ri_weather.head())"
   ]
  },
  {
   "cell_type": "code",
   "execution_count": 42,
   "metadata": {},
   "outputs": [
    {
     "name": "stdout",
     "output_type": "stream",
     "text": [
      "violation            rating\n",
      "Equipment            good      0.059007\n",
      "                     bad       0.066311\n",
      "                     worse     0.097357\n",
      "Moving violation     good      0.056227\n",
      "                     bad       0.058050\n",
      "                     worse     0.065860\n",
      "Other                good      0.076966\n",
      "                     bad       0.087443\n",
      "                     worse     0.062893\n",
      "Registration/plates  good      0.081574\n",
      "                     bad       0.098160\n",
      "                     worse     0.115625\n",
      "Seat belt            good      0.028587\n",
      "                     bad       0.022493\n",
      "                     worse     0.000000\n",
      "Speeding             good      0.013405\n",
      "                     bad       0.013314\n",
      "                     worse     0.016886\n",
      "Name: is_arrested, dtype: float64\n"
     ]
    }
   ],
   "source": [
    "# kita akan lihat hubungan kolom violation dengan kondisi cuaca dan tingkat penangkapan pada kolom is_arrested\n",
    "\n",
    "print(ri_weather.groupby(['violation','rating']).is_arrested.mean())"
   ]
  },
  {
   "cell_type": "markdown",
   "metadata": {},
   "source": [
    "Sangat unuk karena dapat diamati bahwa penangkapan semakin meningkat saat kondisi cuaca semakin buruk"
   ]
  },
  {
   "cell_type": "code",
   "execution_count": null,
   "metadata": {},
   "outputs": [],
   "source": []
  }
 ],
 "metadata": {
  "kernelspec": {
   "display_name": "Python 3",
   "language": "python",
   "name": "python3"
  },
  "language_info": {
   "codemirror_mode": {
    "name": "ipython",
    "version": 3
   },
   "file_extension": ".py",
   "mimetype": "text/x-python",
   "name": "python",
   "nbconvert_exporter": "python",
   "pygments_lexer": "ipython3",
   "version": "3.7.3"
  }
 },
 "nbformat": 4,
 "nbformat_minor": 2
}
